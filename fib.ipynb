{
  "nbformat": 4,
  "nbformat_minor": 0,
  "metadata": {
    "colab": {
      "name": "fib",
      "provenance": [],
      "collapsed_sections": [],
      "authorship_tag": "ABX9TyM2WeaFd6cRoFCGog7W+SeH",
      "include_colab_link": true
    },
    "kernelspec": {
      "name": "python3",
      "display_name": "Python 3"
    },
    "language_info": {
      "name": "python"
    }
  },
  "cells": [
    {
      "cell_type": "markdown",
      "metadata": {
        "id": "view-in-github",
        "colab_type": "text"
      },
      "source": [
        "<a href=\"https://colab.research.google.com/github/Aloshya001/ALOSHYA-JOSHY/blob/main/fib.ipynb\" target=\"_parent\"><img src=\"https://colab.research.google.com/assets/colab-badge.svg\" alt=\"Open In Colab\"/></a>"
      ]
    },
    {
      "cell_type": "code",
      "execution_count": null,
      "metadata": {
        "id": "rx6T03FphN3b"
      },
      "outputs": [],
      "source": [
        "import fibonacci\n",
        "num = int(input(\"Enter any number to print fibonacci serious\"))\n",
        "fibonmacci.fib(num)"
      ]
    }
  ]
}