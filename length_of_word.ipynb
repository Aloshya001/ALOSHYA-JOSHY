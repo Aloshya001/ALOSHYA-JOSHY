{
  "nbformat": 4,
  "nbformat_minor": 0,
  "metadata": {
    "colab": {
      "name": "length of word",
      "provenance": [],
      "collapsed_sections": [],
      "authorship_tag": "ABX9TyNmffeb8CGLbrS7wj7jIJ3Y",
      "include_colab_link": true
    },
    "kernelspec": {
      "name": "python3",
      "display_name": "Python 3"
    },
    "language_info": {
      "name": "python"
    }
  },
  "cells": [
    {
      "cell_type": "markdown",
      "metadata": {
        "id": "view-in-github",
        "colab_type": "text"
      },
      "source": [
        "<a href=\"https://colab.research.google.com/github/Aloshya001/ALOSHYA-JOSHY/blob/main/length_of_word.ipynb\" target=\"_parent\"><img src=\"https://colab.research.google.com/assets/colab-badge.svg\" alt=\"Open In Colab\"/></a>"
      ]
    },
    {
      "cell_type": "code",
      "metadata": {
        "id": "ljfCjmoWi-l6"
      },
      "source": [
        "def logestLength(a):\n",
        "  max1 = len(a[0])\n",
        "  temp = a[0]\n",
        "  for i in a:\n",
        "    if(len(i)>max1):\n",
        "      max1=len(i)\n",
        "      temp=i\n",
        "      print(\"the word with the  longest length is:\",temp, \"and length is\",max1)\n",
        "      a = [\"one\",\"two\",\"third\",\"four\"]\n",
        "      longestLength(a)"
      ],
      "execution_count": null,
      "outputs": []
    }
  ]
}