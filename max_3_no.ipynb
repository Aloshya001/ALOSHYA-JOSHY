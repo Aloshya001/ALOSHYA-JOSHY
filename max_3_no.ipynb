{
  "nbformat": 4,
  "nbformat_minor": 0,
  "metadata": {
    "colab": {
      "name": "max 3 no",
      "provenance": [],
      "collapsed_sections": [],
      "authorship_tag": "ABX9TyMpXJCgonRcjODQXU52ByJb",
      "include_colab_link": true
    },
    "kernelspec": {
      "name": "python3",
      "display_name": "Python 3"
    },
    "language_info": {
      "name": "python"
    }
  },
  "cells": [
    {
      "cell_type": "markdown",
      "metadata": {
        "id": "view-in-github",
        "colab_type": "text"
      },
      "source": [
        "<a href=\"https://colab.research.google.com/github/Aloshya001/ALOSHYA-JOSHY/blob/main/max_3_no.ipynb\" target=\"_parent\"><img src=\"https://colab.research.google.com/assets/colab-badge.svg\" alt=\"Open In Colab\"/></a>"
      ]
    },
    {
      "cell_type": "code",
      "metadata": {
        "colab": {
          "base_uri": "https://localhost:8080/"
        },
        "id": "uB0MGbm5WzyU",
        "outputId": "9d320094-1ebc-43ed-feea-b934a7d6feb1"
      },
      "source": [
        "a=int(input(\"enter first number\"))\n",
        "b=int(input(\"entwer second number\"))\n",
        "c=int(input(\"enter 3rd number\"))\n",
        "big=max(a,b,c)\n",
        "print(\"largest number=\",big)\n"
      ],
      "execution_count": null,
      "outputs": [
        {
          "output_type": "stream",
          "name": "stdout",
          "text": [
            "enter first number12\n",
            "entwer second number63\n",
            "enter 3rd number45\n",
            "largest number= 63\n"
          ]
        }
      ]
    }
  ]
}