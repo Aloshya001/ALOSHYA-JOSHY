{
  "nbformat": 4,
  "nbformat_minor": 0,
  "metadata": {
    "colab": {
      "name": "factorial",
      "provenance": [],
      "collapsed_sections": [],
      "authorship_tag": "ABX9TyO3xSzBOH8dWhQHkP5Ot5O7",
      "include_colab_link": true
    },
    "kernelspec": {
      "name": "python3",
      "display_name": "Python 3"
    },
    "language_info": {
      "name": "python"
    }
  },
  "cells": [
    {
      "cell_type": "markdown",
      "metadata": {
        "id": "view-in-github",
        "colab_type": "text"
      },
      "source": [
        "<a href=\"https://colab.research.google.com/github/Aloshya001/ALOSHYA-JOSHY/blob/main/factorial.ipynb\" target=\"_parent\"><img src=\"https://colab.research.google.com/assets/colab-badge.svg\" alt=\"Open In Colab\"/></a>"
      ]
    },
    {
      "cell_type": "code",
      "metadata": {
        "colab": {
          "base_uri": "https://localhost:8080/"
        },
        "id": "t735qJ9LbNv0",
        "outputId": "9149ee12-48d4-4848-b1f2-0ad9c2abcd39"
      },
      "source": [
        "a=int(input(\"enter a number\"))\n",
        "fact=1;\n",
        "for i in range(1,a+1):\n",
        "  fact=fact*i\n",
        "print(\"factorial 0f \",a,\"is\",fact)"
      ],
      "execution_count": null,
      "outputs": [
        {
          "output_type": "stream",
          "name": "stdout",
          "text": [
            "enter a number5\n",
            "factorial 0f  5 is 120\n"
          ]
        }
      ]
    }
  ]
}